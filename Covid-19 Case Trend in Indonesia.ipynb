{
 "cells": [
  {
   "cell_type": "markdown",
   "metadata": {},
   "source": [
    "## Import some libraries"
   ]
  },
  {
   "cell_type": "code",
   "execution_count": 24,
   "metadata": {},
   "outputs": [],
   "source": [
    "import pandas as pd\n",
    "import numpy as np\n",
    "from matplotlib import pyplot as plt\n",
    "import seaborn as sns"
   ]
  },
  {
   "cell_type": "markdown",
   "metadata": {},
   "source": [
    "## Get the Data"
   ]
  },
  {
   "cell_type": "code",
   "execution_count": 25,
   "metadata": {},
   "outputs": [],
   "source": [
    "data = pd.read_csv('Dataset/Indonesia_coronavirus_daily_data.csv')\n",
    "df = data.copy()"
   ]
  },
  {
   "cell_type": "markdown",
   "metadata": {},
   "source": [
    "## Look the data overview"
   ]
  },
  {
   "cell_type": "code",
   "execution_count": 26,
   "metadata": {},
   "outputs": [
    {
     "data": {
      "text/html": [
       "<div>\n",
       "<style scoped>\n",
       "    .dataframe tbody tr th:only-of-type {\n",
       "        vertical-align: middle;\n",
       "    }\n",
       "\n",
       "    .dataframe tbody tr th {\n",
       "        vertical-align: top;\n",
       "    }\n",
       "\n",
       "    .dataframe thead th {\n",
       "        text-align: right;\n",
       "    }\n",
       "</style>\n",
       "<table border=\"1\" class=\"dataframe\">\n",
       "  <thead>\n",
       "    <tr style=\"text-align: right;\">\n",
       "      <th></th>\n",
       "      <th>Date</th>\n",
       "      <th>Province</th>\n",
       "      <th>Daily_Case</th>\n",
       "      <th>Daily_Death</th>\n",
       "      <th>Daily_Recovered</th>\n",
       "      <th>Active_Case</th>\n",
       "      <th>Cumulative_Case</th>\n",
       "      <th>Cumulative_Recovered</th>\n",
       "      <th>Cumulative_Death</th>\n",
       "      <th>Cumulative_Active_Case</th>\n",
       "    </tr>\n",
       "  </thead>\n",
       "  <tbody>\n",
       "    <tr>\n",
       "      <th>0</th>\n",
       "      <td>01/03/2020</td>\n",
       "      <td>DKI JAKARTA</td>\n",
       "      <td>2</td>\n",
       "      <td>0</td>\n",
       "      <td>0</td>\n",
       "      <td>2</td>\n",
       "      <td>2</td>\n",
       "      <td>0</td>\n",
       "      <td>0</td>\n",
       "      <td>2</td>\n",
       "    </tr>\n",
       "    <tr>\n",
       "      <th>1</th>\n",
       "      <td>02/03/2020</td>\n",
       "      <td>DKI JAKARTA</td>\n",
       "      <td>2</td>\n",
       "      <td>0</td>\n",
       "      <td>0</td>\n",
       "      <td>2</td>\n",
       "      <td>4</td>\n",
       "      <td>0</td>\n",
       "      <td>0</td>\n",
       "      <td>4</td>\n",
       "    </tr>\n",
       "    <tr>\n",
       "      <th>2</th>\n",
       "      <td>03/03/2020</td>\n",
       "      <td>DKI JAKARTA</td>\n",
       "      <td>2</td>\n",
       "      <td>0</td>\n",
       "      <td>0</td>\n",
       "      <td>2</td>\n",
       "      <td>6</td>\n",
       "      <td>0</td>\n",
       "      <td>0</td>\n",
       "      <td>6</td>\n",
       "    </tr>\n",
       "    <tr>\n",
       "      <th>3</th>\n",
       "      <td>04/03/2020</td>\n",
       "      <td>DKI JAKARTA</td>\n",
       "      <td>2</td>\n",
       "      <td>0</td>\n",
       "      <td>0</td>\n",
       "      <td>2</td>\n",
       "      <td>8</td>\n",
       "      <td>0</td>\n",
       "      <td>0</td>\n",
       "      <td>8</td>\n",
       "    </tr>\n",
       "    <tr>\n",
       "      <th>4</th>\n",
       "      <td>05/03/2020</td>\n",
       "      <td>DKI JAKARTA</td>\n",
       "      <td>0</td>\n",
       "      <td>1</td>\n",
       "      <td>0</td>\n",
       "      <td>-1</td>\n",
       "      <td>8</td>\n",
       "      <td>0</td>\n",
       "      <td>1</td>\n",
       "      <td>7</td>\n",
       "    </tr>\n",
       "    <tr>\n",
       "      <th>...</th>\n",
       "      <td>...</td>\n",
       "      <td>...</td>\n",
       "      <td>...</td>\n",
       "      <td>...</td>\n",
       "      <td>...</td>\n",
       "      <td>...</td>\n",
       "      <td>...</td>\n",
       "      <td>...</td>\n",
       "      <td>...</td>\n",
       "      <td>...</td>\n",
       "    </tr>\n",
       "    <tr>\n",
       "      <th>13400</th>\n",
       "      <td>14/04/2021</td>\n",
       "      <td>NUSA TENGGARA TIMUR</td>\n",
       "      <td>55</td>\n",
       "      <td>1</td>\n",
       "      <td>5</td>\n",
       "      <td>49</td>\n",
       "      <td>13013</td>\n",
       "      <td>11377</td>\n",
       "      <td>351</td>\n",
       "      <td>1285</td>\n",
       "    </tr>\n",
       "    <tr>\n",
       "      <th>13401</th>\n",
       "      <td>15/04/2021</td>\n",
       "      <td>NUSA TENGGARA TIMUR</td>\n",
       "      <td>52</td>\n",
       "      <td>5</td>\n",
       "      <td>120</td>\n",
       "      <td>-73</td>\n",
       "      <td>13065</td>\n",
       "      <td>11497</td>\n",
       "      <td>356</td>\n",
       "      <td>1212</td>\n",
       "    </tr>\n",
       "    <tr>\n",
       "      <th>13402</th>\n",
       "      <td>16/04/2021</td>\n",
       "      <td>NUSA TENGGARA TIMUR</td>\n",
       "      <td>131</td>\n",
       "      <td>0</td>\n",
       "      <td>45</td>\n",
       "      <td>86</td>\n",
       "      <td>13196</td>\n",
       "      <td>11542</td>\n",
       "      <td>356</td>\n",
       "      <td>1298</td>\n",
       "    </tr>\n",
       "    <tr>\n",
       "      <th>13403</th>\n",
       "      <td>17/04/2021</td>\n",
       "      <td>NUSA TENGGARA TIMUR</td>\n",
       "      <td>24</td>\n",
       "      <td>2</td>\n",
       "      <td>57</td>\n",
       "      <td>-35</td>\n",
       "      <td>13220</td>\n",
       "      <td>11599</td>\n",
       "      <td>358</td>\n",
       "      <td>1263</td>\n",
       "    </tr>\n",
       "    <tr>\n",
       "      <th>13404</th>\n",
       "      <td>18/04/2021</td>\n",
       "      <td>NUSA TENGGARA TIMUR</td>\n",
       "      <td>4</td>\n",
       "      <td>1</td>\n",
       "      <td>9</td>\n",
       "      <td>-6</td>\n",
       "      <td>13224</td>\n",
       "      <td>11608</td>\n",
       "      <td>359</td>\n",
       "      <td>1257</td>\n",
       "    </tr>\n",
       "  </tbody>\n",
       "</table>\n",
       "<p>13405 rows × 10 columns</p>\n",
       "</div>"
      ],
      "text/plain": [
       "             Date             Province  Daily_Case  Daily_Death  \\\n",
       "0      01/03/2020          DKI JAKARTA           2            0   \n",
       "1      02/03/2020          DKI JAKARTA           2            0   \n",
       "2      03/03/2020          DKI JAKARTA           2            0   \n",
       "3      04/03/2020          DKI JAKARTA           2            0   \n",
       "4      05/03/2020          DKI JAKARTA           0            1   \n",
       "...           ...                  ...         ...          ...   \n",
       "13400  14/04/2021  NUSA TENGGARA TIMUR          55            1   \n",
       "13401  15/04/2021  NUSA TENGGARA TIMUR          52            5   \n",
       "13402  16/04/2021  NUSA TENGGARA TIMUR         131            0   \n",
       "13403  17/04/2021  NUSA TENGGARA TIMUR          24            2   \n",
       "13404  18/04/2021  NUSA TENGGARA TIMUR           4            1   \n",
       "\n",
       "       Daily_Recovered  Active_Case  Cumulative_Case  Cumulative_Recovered  \\\n",
       "0                    0            2                2                     0   \n",
       "1                    0            2                4                     0   \n",
       "2                    0            2                6                     0   \n",
       "3                    0            2                8                     0   \n",
       "4                    0           -1                8                     0   \n",
       "...                ...          ...              ...                   ...   \n",
       "13400                5           49            13013                 11377   \n",
       "13401              120          -73            13065                 11497   \n",
       "13402               45           86            13196                 11542   \n",
       "13403               57          -35            13220                 11599   \n",
       "13404                9           -6            13224                 11608   \n",
       "\n",
       "       Cumulative_Death  Cumulative_Active_Case  \n",
       "0                     0                       2  \n",
       "1                     0                       4  \n",
       "2                     0                       6  \n",
       "3                     0                       8  \n",
       "4                     1                       7  \n",
       "...                 ...                     ...  \n",
       "13400               351                    1285  \n",
       "13401               356                    1212  \n",
       "13402               356                    1298  \n",
       "13403               358                    1263  \n",
       "13404               359                    1257  \n",
       "\n",
       "[13405 rows x 10 columns]"
      ]
     },
     "execution_count": 26,
     "metadata": {},
     "output_type": "execute_result"
    }
   ],
   "source": [
    "df"
   ]
  },
  {
   "cell_type": "code",
   "execution_count": 27,
   "metadata": {},
   "outputs": [
    {
     "name": "stdout",
     "output_type": "stream",
     "text": [
      "<class 'pandas.core.frame.DataFrame'>\n",
      "RangeIndex: 13405 entries, 0 to 13404\n",
      "Data columns (total 10 columns):\n",
      " #   Column                  Non-Null Count  Dtype \n",
      "---  ------                  --------------  ----- \n",
      " 0   Date                    13405 non-null  object\n",
      " 1   Province                13405 non-null  object\n",
      " 2   Daily_Case              13405 non-null  int64 \n",
      " 3   Daily_Death             13405 non-null  int64 \n",
      " 4   Daily_Recovered         13405 non-null  int64 \n",
      " 5   Active_Case             13405 non-null  int64 \n",
      " 6   Cumulative_Case         13405 non-null  int64 \n",
      " 7   Cumulative_Recovered    13405 non-null  int64 \n",
      " 8   Cumulative_Death        13405 non-null  int64 \n",
      " 9   Cumulative_Active_Case  13405 non-null  int64 \n",
      "dtypes: int64(8), object(2)\n",
      "memory usage: 1.0+ MB\n"
     ]
    }
   ],
   "source": [
    "df.info()"
   ]
  },
  {
   "cell_type": "markdown",
   "metadata": {},
   "source": [
    "## Find the NaN values"
   ]
  },
  {
   "cell_type": "code",
   "execution_count": 28,
   "metadata": {},
   "outputs": [
    {
     "data": {
      "text/plain": [
       "Date                      0\n",
       "Province                  0\n",
       "Daily_Case                0\n",
       "Daily_Death               0\n",
       "Daily_Recovered           0\n",
       "Active_Case               0\n",
       "Cumulative_Case           0\n",
       "Cumulative_Recovered      0\n",
       "Cumulative_Death          0\n",
       "Cumulative_Active_Case    0\n",
       "dtype: int64"
      ]
     },
     "execution_count": 28,
     "metadata": {},
     "output_type": "execute_result"
    }
   ],
   "source": [
    "df.isnull().sum()"
   ]
  },
  {
   "cell_type": "markdown",
   "metadata": {},
   "source": [
    "## Re-ordered Column Name"
   ]
  },
  {
   "cell_type": "code",
   "execution_count": 29,
   "metadata": {},
   "outputs": [],
   "source": [
    "df = df[['Date','Province','Daily_Case', 'Daily_Death', 'Daily_Recovered','Active_Case','Cumulative_Case','Cumulative_Death','Cumulative_Recovered','Cumulative_Active_Case']]"
   ]
  },
  {
   "cell_type": "code",
   "execution_count": 30,
   "metadata": {},
   "outputs": [
    {
     "data": {
      "text/html": [
       "<div>\n",
       "<style scoped>\n",
       "    .dataframe tbody tr th:only-of-type {\n",
       "        vertical-align: middle;\n",
       "    }\n",
       "\n",
       "    .dataframe tbody tr th {\n",
       "        vertical-align: top;\n",
       "    }\n",
       "\n",
       "    .dataframe thead th {\n",
       "        text-align: right;\n",
       "    }\n",
       "</style>\n",
       "<table border=\"1\" class=\"dataframe\">\n",
       "  <thead>\n",
       "    <tr style=\"text-align: right;\">\n",
       "      <th></th>\n",
       "      <th>Date</th>\n",
       "      <th>Province</th>\n",
       "      <th>Daily_Case</th>\n",
       "      <th>Daily_Death</th>\n",
       "      <th>Daily_Recovered</th>\n",
       "      <th>Active_Case</th>\n",
       "      <th>Cumulative_Case</th>\n",
       "      <th>Cumulative_Death</th>\n",
       "      <th>Cumulative_Recovered</th>\n",
       "      <th>Cumulative_Active_Case</th>\n",
       "    </tr>\n",
       "  </thead>\n",
       "  <tbody>\n",
       "    <tr>\n",
       "      <th>0</th>\n",
       "      <td>01/03/2020</td>\n",
       "      <td>DKI JAKARTA</td>\n",
       "      <td>2</td>\n",
       "      <td>0</td>\n",
       "      <td>0</td>\n",
       "      <td>2</td>\n",
       "      <td>2</td>\n",
       "      <td>0</td>\n",
       "      <td>0</td>\n",
       "      <td>2</td>\n",
       "    </tr>\n",
       "    <tr>\n",
       "      <th>1</th>\n",
       "      <td>02/03/2020</td>\n",
       "      <td>DKI JAKARTA</td>\n",
       "      <td>2</td>\n",
       "      <td>0</td>\n",
       "      <td>0</td>\n",
       "      <td>2</td>\n",
       "      <td>4</td>\n",
       "      <td>0</td>\n",
       "      <td>0</td>\n",
       "      <td>4</td>\n",
       "    </tr>\n",
       "    <tr>\n",
       "      <th>2</th>\n",
       "      <td>03/03/2020</td>\n",
       "      <td>DKI JAKARTA</td>\n",
       "      <td>2</td>\n",
       "      <td>0</td>\n",
       "      <td>0</td>\n",
       "      <td>2</td>\n",
       "      <td>6</td>\n",
       "      <td>0</td>\n",
       "      <td>0</td>\n",
       "      <td>6</td>\n",
       "    </tr>\n",
       "    <tr>\n",
       "      <th>3</th>\n",
       "      <td>04/03/2020</td>\n",
       "      <td>DKI JAKARTA</td>\n",
       "      <td>2</td>\n",
       "      <td>0</td>\n",
       "      <td>0</td>\n",
       "      <td>2</td>\n",
       "      <td>8</td>\n",
       "      <td>0</td>\n",
       "      <td>0</td>\n",
       "      <td>8</td>\n",
       "    </tr>\n",
       "    <tr>\n",
       "      <th>4</th>\n",
       "      <td>05/03/2020</td>\n",
       "      <td>DKI JAKARTA</td>\n",
       "      <td>0</td>\n",
       "      <td>1</td>\n",
       "      <td>0</td>\n",
       "      <td>-1</td>\n",
       "      <td>8</td>\n",
       "      <td>1</td>\n",
       "      <td>0</td>\n",
       "      <td>7</td>\n",
       "    </tr>\n",
       "    <tr>\n",
       "      <th>...</th>\n",
       "      <td>...</td>\n",
       "      <td>...</td>\n",
       "      <td>...</td>\n",
       "      <td>...</td>\n",
       "      <td>...</td>\n",
       "      <td>...</td>\n",
       "      <td>...</td>\n",
       "      <td>...</td>\n",
       "      <td>...</td>\n",
       "      <td>...</td>\n",
       "    </tr>\n",
       "    <tr>\n",
       "      <th>13400</th>\n",
       "      <td>14/04/2021</td>\n",
       "      <td>NUSA TENGGARA TIMUR</td>\n",
       "      <td>55</td>\n",
       "      <td>1</td>\n",
       "      <td>5</td>\n",
       "      <td>49</td>\n",
       "      <td>13013</td>\n",
       "      <td>351</td>\n",
       "      <td>11377</td>\n",
       "      <td>1285</td>\n",
       "    </tr>\n",
       "    <tr>\n",
       "      <th>13401</th>\n",
       "      <td>15/04/2021</td>\n",
       "      <td>NUSA TENGGARA TIMUR</td>\n",
       "      <td>52</td>\n",
       "      <td>5</td>\n",
       "      <td>120</td>\n",
       "      <td>-73</td>\n",
       "      <td>13065</td>\n",
       "      <td>356</td>\n",
       "      <td>11497</td>\n",
       "      <td>1212</td>\n",
       "    </tr>\n",
       "    <tr>\n",
       "      <th>13402</th>\n",
       "      <td>16/04/2021</td>\n",
       "      <td>NUSA TENGGARA TIMUR</td>\n",
       "      <td>131</td>\n",
       "      <td>0</td>\n",
       "      <td>45</td>\n",
       "      <td>86</td>\n",
       "      <td>13196</td>\n",
       "      <td>356</td>\n",
       "      <td>11542</td>\n",
       "      <td>1298</td>\n",
       "    </tr>\n",
       "    <tr>\n",
       "      <th>13403</th>\n",
       "      <td>17/04/2021</td>\n",
       "      <td>NUSA TENGGARA TIMUR</td>\n",
       "      <td>24</td>\n",
       "      <td>2</td>\n",
       "      <td>57</td>\n",
       "      <td>-35</td>\n",
       "      <td>13220</td>\n",
       "      <td>358</td>\n",
       "      <td>11599</td>\n",
       "      <td>1263</td>\n",
       "    </tr>\n",
       "    <tr>\n",
       "      <th>13404</th>\n",
       "      <td>18/04/2021</td>\n",
       "      <td>NUSA TENGGARA TIMUR</td>\n",
       "      <td>4</td>\n",
       "      <td>1</td>\n",
       "      <td>9</td>\n",
       "      <td>-6</td>\n",
       "      <td>13224</td>\n",
       "      <td>359</td>\n",
       "      <td>11608</td>\n",
       "      <td>1257</td>\n",
       "    </tr>\n",
       "  </tbody>\n",
       "</table>\n",
       "<p>13405 rows × 10 columns</p>\n",
       "</div>"
      ],
      "text/plain": [
       "             Date             Province  Daily_Case  Daily_Death  \\\n",
       "0      01/03/2020          DKI JAKARTA           2            0   \n",
       "1      02/03/2020          DKI JAKARTA           2            0   \n",
       "2      03/03/2020          DKI JAKARTA           2            0   \n",
       "3      04/03/2020          DKI JAKARTA           2            0   \n",
       "4      05/03/2020          DKI JAKARTA           0            1   \n",
       "...           ...                  ...         ...          ...   \n",
       "13400  14/04/2021  NUSA TENGGARA TIMUR          55            1   \n",
       "13401  15/04/2021  NUSA TENGGARA TIMUR          52            5   \n",
       "13402  16/04/2021  NUSA TENGGARA TIMUR         131            0   \n",
       "13403  17/04/2021  NUSA TENGGARA TIMUR          24            2   \n",
       "13404  18/04/2021  NUSA TENGGARA TIMUR           4            1   \n",
       "\n",
       "       Daily_Recovered  Active_Case  Cumulative_Case  Cumulative_Death  \\\n",
       "0                    0            2                2                 0   \n",
       "1                    0            2                4                 0   \n",
       "2                    0            2                6                 0   \n",
       "3                    0            2                8                 0   \n",
       "4                    0           -1                8                 1   \n",
       "...                ...          ...              ...               ...   \n",
       "13400                5           49            13013               351   \n",
       "13401              120          -73            13065               356   \n",
       "13402               45           86            13196               356   \n",
       "13403               57          -35            13220               358   \n",
       "13404                9           -6            13224               359   \n",
       "\n",
       "       Cumulative_Recovered  Cumulative_Active_Case  \n",
       "0                         0                       2  \n",
       "1                         0                       4  \n",
       "2                         0                       6  \n",
       "3                         0                       8  \n",
       "4                         0                       7  \n",
       "...                     ...                     ...  \n",
       "13400                 11377                    1285  \n",
       "13401                 11497                    1212  \n",
       "13402                 11542                    1298  \n",
       "13403                 11599                    1263  \n",
       "13404                 11608                    1257  \n",
       "\n",
       "[13405 rows x 10 columns]"
      ]
     },
     "execution_count": 30,
     "metadata": {},
     "output_type": "execute_result"
    }
   ],
   "source": [
    "df"
   ]
  },
  {
   "cell_type": "markdown",
   "metadata": {},
   "source": [
    "## Add New Column"
   ]
  },
  {
   "cell_type": "code",
   "execution_count": 31,
   "metadata": {},
   "outputs": [
    {
     "name": "stderr",
     "output_type": "stream",
     "text": [
      "<ipython-input-31-3e3d6bbcb624>:1: SettingWithCopyWarning: \n",
      "A value is trying to be set on a copy of a slice from a DataFrame.\n",
      "Try using .loc[row_indexer,col_indexer] = value instead\n",
      "\n",
      "See the caveats in the documentation: https://pandas.pydata.org/pandas-docs/stable/user_guide/indexing.html#returning-a-view-versus-a-copy\n",
      "  df['Year'] = df['Date'].str[6::]\n"
     ]
    }
   ],
   "source": [
    "df['Year'] = df['Date'].str[6::]"
   ]
  },
  {
   "cell_type": "code",
   "execution_count": 32,
   "metadata": {},
   "outputs": [
    {
     "name": "stderr",
     "output_type": "stream",
     "text": [
      "<ipython-input-32-5c714cfc161d>:2: SettingWithCopyWarning: \n",
      "A value is trying to be set on a copy of a slice from a DataFrame.\n",
      "Try using .loc[row_indexer,col_indexer] = value instead\n",
      "\n",
      "See the caveats in the documentation: https://pandas.pydata.org/pandas-docs/stable/user_guide/indexing.html#returning-a-view-versus-a-copy\n",
      "  df['Year'] = pd.to_numeric(df['Year'])\n"
     ]
    }
   ],
   "source": [
    "# Convert to numeric\n",
    "df['Year'] = pd.to_numeric(df['Year'])"
   ]
  },
  {
   "cell_type": "code",
   "execution_count": 33,
   "metadata": {},
   "outputs": [
    {
     "name": "stderr",
     "output_type": "stream",
     "text": [
      "<ipython-input-33-4ac7b3946c60>:1: SettingWithCopyWarning: \n",
      "A value is trying to be set on a copy of a slice from a DataFrame.\n",
      "Try using .loc[row_indexer,col_indexer] = value instead\n",
      "\n",
      "See the caveats in the documentation: https://pandas.pydata.org/pandas-docs/stable/user_guide/indexing.html#returning-a-view-versus-a-copy\n",
      "  df['Month'] = df['Date'].str[3:5]\n"
     ]
    }
   ],
   "source": [
    "df['Month'] = df['Date'].str[3:5]"
   ]
  },
  {
   "cell_type": "code",
   "execution_count": 34,
   "metadata": {},
   "outputs": [
    {
     "name": "stderr",
     "output_type": "stream",
     "text": [
      "<ipython-input-34-406bfda412ca>:2: SettingWithCopyWarning: \n",
      "A value is trying to be set on a copy of a slice from a DataFrame.\n",
      "Try using .loc[row_indexer,col_indexer] = value instead\n",
      "\n",
      "See the caveats in the documentation: https://pandas.pydata.org/pandas-docs/stable/user_guide/indexing.html#returning-a-view-versus-a-copy\n",
      "  df['Month'] = pd.to_numeric(df['Month'])\n"
     ]
    }
   ],
   "source": [
    "# Convert to numeric\n",
    "df['Month'] = pd.to_numeric(df['Month'])"
   ]
  },
  {
   "cell_type": "code",
   "execution_count": 35,
   "metadata": {},
   "outputs": [
    {
     "data": {
      "text/html": [
       "<div>\n",
       "<style scoped>\n",
       "    .dataframe tbody tr th:only-of-type {\n",
       "        vertical-align: middle;\n",
       "    }\n",
       "\n",
       "    .dataframe tbody tr th {\n",
       "        vertical-align: top;\n",
       "    }\n",
       "\n",
       "    .dataframe thead th {\n",
       "        text-align: right;\n",
       "    }\n",
       "</style>\n",
       "<table border=\"1\" class=\"dataframe\">\n",
       "  <thead>\n",
       "    <tr style=\"text-align: right;\">\n",
       "      <th></th>\n",
       "      <th>Date</th>\n",
       "      <th>Province</th>\n",
       "      <th>Daily_Case</th>\n",
       "      <th>Daily_Death</th>\n",
       "      <th>Daily_Recovered</th>\n",
       "      <th>Active_Case</th>\n",
       "      <th>Cumulative_Case</th>\n",
       "      <th>Cumulative_Death</th>\n",
       "      <th>Cumulative_Recovered</th>\n",
       "      <th>Cumulative_Active_Case</th>\n",
       "      <th>Year</th>\n",
       "      <th>Month</th>\n",
       "    </tr>\n",
       "  </thead>\n",
       "  <tbody>\n",
       "    <tr>\n",
       "      <th>0</th>\n",
       "      <td>01/03/2020</td>\n",
       "      <td>DKI JAKARTA</td>\n",
       "      <td>2</td>\n",
       "      <td>0</td>\n",
       "      <td>0</td>\n",
       "      <td>2</td>\n",
       "      <td>2</td>\n",
       "      <td>0</td>\n",
       "      <td>0</td>\n",
       "      <td>2</td>\n",
       "      <td>2020</td>\n",
       "      <td>3</td>\n",
       "    </tr>\n",
       "    <tr>\n",
       "      <th>1</th>\n",
       "      <td>02/03/2020</td>\n",
       "      <td>DKI JAKARTA</td>\n",
       "      <td>2</td>\n",
       "      <td>0</td>\n",
       "      <td>0</td>\n",
       "      <td>2</td>\n",
       "      <td>4</td>\n",
       "      <td>0</td>\n",
       "      <td>0</td>\n",
       "      <td>4</td>\n",
       "      <td>2020</td>\n",
       "      <td>3</td>\n",
       "    </tr>\n",
       "    <tr>\n",
       "      <th>2</th>\n",
       "      <td>03/03/2020</td>\n",
       "      <td>DKI JAKARTA</td>\n",
       "      <td>2</td>\n",
       "      <td>0</td>\n",
       "      <td>0</td>\n",
       "      <td>2</td>\n",
       "      <td>6</td>\n",
       "      <td>0</td>\n",
       "      <td>0</td>\n",
       "      <td>6</td>\n",
       "      <td>2020</td>\n",
       "      <td>3</td>\n",
       "    </tr>\n",
       "    <tr>\n",
       "      <th>3</th>\n",
       "      <td>04/03/2020</td>\n",
       "      <td>DKI JAKARTA</td>\n",
       "      <td>2</td>\n",
       "      <td>0</td>\n",
       "      <td>0</td>\n",
       "      <td>2</td>\n",
       "      <td>8</td>\n",
       "      <td>0</td>\n",
       "      <td>0</td>\n",
       "      <td>8</td>\n",
       "      <td>2020</td>\n",
       "      <td>3</td>\n",
       "    </tr>\n",
       "    <tr>\n",
       "      <th>4</th>\n",
       "      <td>05/03/2020</td>\n",
       "      <td>DKI JAKARTA</td>\n",
       "      <td>0</td>\n",
       "      <td>1</td>\n",
       "      <td>0</td>\n",
       "      <td>-1</td>\n",
       "      <td>8</td>\n",
       "      <td>1</td>\n",
       "      <td>0</td>\n",
       "      <td>7</td>\n",
       "      <td>2020</td>\n",
       "      <td>3</td>\n",
       "    </tr>\n",
       "  </tbody>\n",
       "</table>\n",
       "</div>"
      ],
      "text/plain": [
       "         Date     Province  Daily_Case  Daily_Death  Daily_Recovered  \\\n",
       "0  01/03/2020  DKI JAKARTA           2            0                0   \n",
       "1  02/03/2020  DKI JAKARTA           2            0                0   \n",
       "2  03/03/2020  DKI JAKARTA           2            0                0   \n",
       "3  04/03/2020  DKI JAKARTA           2            0                0   \n",
       "4  05/03/2020  DKI JAKARTA           0            1                0   \n",
       "\n",
       "   Active_Case  Cumulative_Case  Cumulative_Death  Cumulative_Recovered  \\\n",
       "0            2                2                 0                     0   \n",
       "1            2                4                 0                     0   \n",
       "2            2                6                 0                     0   \n",
       "3            2                8                 0                     0   \n",
       "4           -1                8                 1                     0   \n",
       "\n",
       "   Cumulative_Active_Case  Year  Month  \n",
       "0                       2  2020      3  \n",
       "1                       4  2020      3  \n",
       "2                       6  2020      3  \n",
       "3                       8  2020      3  \n",
       "4                       7  2020      3  "
      ]
     },
     "execution_count": 35,
     "metadata": {},
     "output_type": "execute_result"
    }
   ],
   "source": [
    "df.head()"
   ]
  },
  {
   "cell_type": "markdown",
   "metadata": {},
   "source": [
    "## Make Dataframe/year"
   ]
  },
  {
   "cell_type": "markdown",
   "metadata": {},
   "source": [
    "### 2020"
   ]
  },
  {
   "cell_type": "code",
   "execution_count": 36,
   "metadata": {},
   "outputs": [],
   "source": [
    "df_2020 = df[df['Year'] == 2020]"
   ]
  },
  {
   "cell_type": "code",
   "execution_count": 37,
   "metadata": {},
   "outputs": [
    {
     "data": {
      "text/html": [
       "<div>\n",
       "<style scoped>\n",
       "    .dataframe tbody tr th:only-of-type {\n",
       "        vertical-align: middle;\n",
       "    }\n",
       "\n",
       "    .dataframe tbody tr th {\n",
       "        vertical-align: top;\n",
       "    }\n",
       "\n",
       "    .dataframe thead th {\n",
       "        text-align: right;\n",
       "    }\n",
       "</style>\n",
       "<table border=\"1\" class=\"dataframe\">\n",
       "  <thead>\n",
       "    <tr style=\"text-align: right;\">\n",
       "      <th></th>\n",
       "      <th>Date</th>\n",
       "      <th>Province</th>\n",
       "      <th>Daily_Case</th>\n",
       "      <th>Daily_Death</th>\n",
       "      <th>Daily_Recovered</th>\n",
       "      <th>Active_Case</th>\n",
       "      <th>Cumulative_Case</th>\n",
       "      <th>Cumulative_Death</th>\n",
       "      <th>Cumulative_Recovered</th>\n",
       "      <th>Cumulative_Active_Case</th>\n",
       "      <th>Year</th>\n",
       "      <th>Month</th>\n",
       "    </tr>\n",
       "  </thead>\n",
       "  <tbody>\n",
       "    <tr>\n",
       "      <th>0</th>\n",
       "      <td>01/03/2020</td>\n",
       "      <td>DKI JAKARTA</td>\n",
       "      <td>2</td>\n",
       "      <td>0</td>\n",
       "      <td>0</td>\n",
       "      <td>2</td>\n",
       "      <td>2</td>\n",
       "      <td>0</td>\n",
       "      <td>0</td>\n",
       "      <td>2</td>\n",
       "      <td>2020</td>\n",
       "      <td>3</td>\n",
       "    </tr>\n",
       "    <tr>\n",
       "      <th>1</th>\n",
       "      <td>02/03/2020</td>\n",
       "      <td>DKI JAKARTA</td>\n",
       "      <td>2</td>\n",
       "      <td>0</td>\n",
       "      <td>0</td>\n",
       "      <td>2</td>\n",
       "      <td>4</td>\n",
       "      <td>0</td>\n",
       "      <td>0</td>\n",
       "      <td>4</td>\n",
       "      <td>2020</td>\n",
       "      <td>3</td>\n",
       "    </tr>\n",
       "    <tr>\n",
       "      <th>2</th>\n",
       "      <td>03/03/2020</td>\n",
       "      <td>DKI JAKARTA</td>\n",
       "      <td>2</td>\n",
       "      <td>0</td>\n",
       "      <td>0</td>\n",
       "      <td>2</td>\n",
       "      <td>6</td>\n",
       "      <td>0</td>\n",
       "      <td>0</td>\n",
       "      <td>6</td>\n",
       "      <td>2020</td>\n",
       "      <td>3</td>\n",
       "    </tr>\n",
       "    <tr>\n",
       "      <th>3</th>\n",
       "      <td>04/03/2020</td>\n",
       "      <td>DKI JAKARTA</td>\n",
       "      <td>2</td>\n",
       "      <td>0</td>\n",
       "      <td>0</td>\n",
       "      <td>2</td>\n",
       "      <td>8</td>\n",
       "      <td>0</td>\n",
       "      <td>0</td>\n",
       "      <td>8</td>\n",
       "      <td>2020</td>\n",
       "      <td>3</td>\n",
       "    </tr>\n",
       "    <tr>\n",
       "      <th>4</th>\n",
       "      <td>05/03/2020</td>\n",
       "      <td>DKI JAKARTA</td>\n",
       "      <td>0</td>\n",
       "      <td>1</td>\n",
       "      <td>0</td>\n",
       "      <td>-1</td>\n",
       "      <td>8</td>\n",
       "      <td>1</td>\n",
       "      <td>0</td>\n",
       "      <td>7</td>\n",
       "      <td>2020</td>\n",
       "      <td>3</td>\n",
       "    </tr>\n",
       "    <tr>\n",
       "      <th>...</th>\n",
       "      <td>...</td>\n",
       "      <td>...</td>\n",
       "      <td>...</td>\n",
       "      <td>...</td>\n",
       "      <td>...</td>\n",
       "      <td>...</td>\n",
       "      <td>...</td>\n",
       "      <td>...</td>\n",
       "      <td>...</td>\n",
       "      <td>...</td>\n",
       "      <td>...</td>\n",
       "      <td>...</td>\n",
       "    </tr>\n",
       "    <tr>\n",
       "      <th>13292</th>\n",
       "      <td>27/12/2020</td>\n",
       "      <td>NUSA TENGGARA TIMUR</td>\n",
       "      <td>29</td>\n",
       "      <td>0</td>\n",
       "      <td>4</td>\n",
       "      <td>25</td>\n",
       "      <td>2041</td>\n",
       "      <td>42</td>\n",
       "      <td>1123</td>\n",
       "      <td>876</td>\n",
       "      <td>2020</td>\n",
       "      <td>12</td>\n",
       "    </tr>\n",
       "    <tr>\n",
       "      <th>13293</th>\n",
       "      <td>28/12/2020</td>\n",
       "      <td>NUSA TENGGARA TIMUR</td>\n",
       "      <td>17</td>\n",
       "      <td>1</td>\n",
       "      <td>3</td>\n",
       "      <td>13</td>\n",
       "      <td>2058</td>\n",
       "      <td>43</td>\n",
       "      <td>1126</td>\n",
       "      <td>889</td>\n",
       "      <td>2020</td>\n",
       "      <td>12</td>\n",
       "    </tr>\n",
       "    <tr>\n",
       "      <th>13294</th>\n",
       "      <td>29/12/2020</td>\n",
       "      <td>NUSA TENGGARA TIMUR</td>\n",
       "      <td>30</td>\n",
       "      <td>0</td>\n",
       "      <td>7</td>\n",
       "      <td>23</td>\n",
       "      <td>2088</td>\n",
       "      <td>43</td>\n",
       "      <td>1133</td>\n",
       "      <td>912</td>\n",
       "      <td>2020</td>\n",
       "      <td>12</td>\n",
       "    </tr>\n",
       "    <tr>\n",
       "      <th>13295</th>\n",
       "      <td>30/12/2020</td>\n",
       "      <td>NUSA TENGGARA TIMUR</td>\n",
       "      <td>53</td>\n",
       "      <td>4</td>\n",
       "      <td>66</td>\n",
       "      <td>-17</td>\n",
       "      <td>2141</td>\n",
       "      <td>47</td>\n",
       "      <td>1199</td>\n",
       "      <td>895</td>\n",
       "      <td>2020</td>\n",
       "      <td>12</td>\n",
       "    </tr>\n",
       "    <tr>\n",
       "      <th>13296</th>\n",
       "      <td>31/12/2020</td>\n",
       "      <td>NUSA TENGGARA TIMUR</td>\n",
       "      <td>26</td>\n",
       "      <td>2</td>\n",
       "      <td>4</td>\n",
       "      <td>20</td>\n",
       "      <td>2167</td>\n",
       "      <td>49</td>\n",
       "      <td>1203</td>\n",
       "      <td>915</td>\n",
       "      <td>2020</td>\n",
       "      <td>12</td>\n",
       "    </tr>\n",
       "  </tbody>\n",
       "</table>\n",
       "<p>9734 rows × 12 columns</p>\n",
       "</div>"
      ],
      "text/plain": [
       "             Date             Province  Daily_Case  Daily_Death  \\\n",
       "0      01/03/2020          DKI JAKARTA           2            0   \n",
       "1      02/03/2020          DKI JAKARTA           2            0   \n",
       "2      03/03/2020          DKI JAKARTA           2            0   \n",
       "3      04/03/2020          DKI JAKARTA           2            0   \n",
       "4      05/03/2020          DKI JAKARTA           0            1   \n",
       "...           ...                  ...         ...          ...   \n",
       "13292  27/12/2020  NUSA TENGGARA TIMUR          29            0   \n",
       "13293  28/12/2020  NUSA TENGGARA TIMUR          17            1   \n",
       "13294  29/12/2020  NUSA TENGGARA TIMUR          30            0   \n",
       "13295  30/12/2020  NUSA TENGGARA TIMUR          53            4   \n",
       "13296  31/12/2020  NUSA TENGGARA TIMUR          26            2   \n",
       "\n",
       "       Daily_Recovered  Active_Case  Cumulative_Case  Cumulative_Death  \\\n",
       "0                    0            2                2                 0   \n",
       "1                    0            2                4                 0   \n",
       "2                    0            2                6                 0   \n",
       "3                    0            2                8                 0   \n",
       "4                    0           -1                8                 1   \n",
       "...                ...          ...              ...               ...   \n",
       "13292                4           25             2041                42   \n",
       "13293                3           13             2058                43   \n",
       "13294                7           23             2088                43   \n",
       "13295               66          -17             2141                47   \n",
       "13296                4           20             2167                49   \n",
       "\n",
       "       Cumulative_Recovered  Cumulative_Active_Case  Year  Month  \n",
       "0                         0                       2  2020      3  \n",
       "1                         0                       4  2020      3  \n",
       "2                         0                       6  2020      3  \n",
       "3                         0                       8  2020      3  \n",
       "4                         0                       7  2020      3  \n",
       "...                     ...                     ...   ...    ...  \n",
       "13292                  1123                     876  2020     12  \n",
       "13293                  1126                     889  2020     12  \n",
       "13294                  1133                     912  2020     12  \n",
       "13295                  1199                     895  2020     12  \n",
       "13296                  1203                     915  2020     12  \n",
       "\n",
       "[9734 rows x 12 columns]"
      ]
     },
     "execution_count": 37,
     "metadata": {},
     "output_type": "execute_result"
    }
   ],
   "source": [
    "df_2020"
   ]
  },
  {
   "cell_type": "markdown",
   "metadata": {},
   "source": [
    "### 2021"
   ]
  },
  {
   "cell_type": "code",
   "execution_count": 38,
   "metadata": {},
   "outputs": [
    {
     "data": {
      "text/html": [
       "<div>\n",
       "<style scoped>\n",
       "    .dataframe tbody tr th:only-of-type {\n",
       "        vertical-align: middle;\n",
       "    }\n",
       "\n",
       "    .dataframe tbody tr th {\n",
       "        vertical-align: top;\n",
       "    }\n",
       "\n",
       "    .dataframe thead th {\n",
       "        text-align: right;\n",
       "    }\n",
       "</style>\n",
       "<table border=\"1\" class=\"dataframe\">\n",
       "  <thead>\n",
       "    <tr style=\"text-align: right;\">\n",
       "      <th></th>\n",
       "      <th>Date</th>\n",
       "      <th>Province</th>\n",
       "      <th>Daily_Case</th>\n",
       "      <th>Daily_Death</th>\n",
       "      <th>Daily_Recovered</th>\n",
       "      <th>Active_Case</th>\n",
       "      <th>Cumulative_Case</th>\n",
       "      <th>Cumulative_Death</th>\n",
       "      <th>Cumulative_Recovered</th>\n",
       "      <th>Cumulative_Active_Case</th>\n",
       "      <th>Year</th>\n",
       "      <th>Month</th>\n",
       "    </tr>\n",
       "  </thead>\n",
       "  <tbody>\n",
       "    <tr>\n",
       "      <th>306</th>\n",
       "      <td>01/01/2021</td>\n",
       "      <td>DKI JAKARTA</td>\n",
       "      <td>1956</td>\n",
       "      <td>20</td>\n",
       "      <td>1643</td>\n",
       "      <td>293</td>\n",
       "      <td>185204</td>\n",
       "      <td>3270</td>\n",
       "      <td>166314</td>\n",
       "      <td>15620</td>\n",
       "      <td>2021</td>\n",
       "      <td>1</td>\n",
       "    </tr>\n",
       "    <tr>\n",
       "      <th>307</th>\n",
       "      <td>02/01/2021</td>\n",
       "      <td>DKI JAKARTA</td>\n",
       "      <td>1894</td>\n",
       "      <td>26</td>\n",
       "      <td>2280</td>\n",
       "      <td>-412</td>\n",
       "      <td>187098</td>\n",
       "      <td>3296</td>\n",
       "      <td>168594</td>\n",
       "      <td>15208</td>\n",
       "      <td>2021</td>\n",
       "      <td>1</td>\n",
       "    </tr>\n",
       "    <tr>\n",
       "      <th>308</th>\n",
       "      <td>03/01/2021</td>\n",
       "      <td>DKI JAKARTA</td>\n",
       "      <td>1658</td>\n",
       "      <td>10</td>\n",
       "      <td>1691</td>\n",
       "      <td>-43</td>\n",
       "      <td>188756</td>\n",
       "      <td>3306</td>\n",
       "      <td>170285</td>\n",
       "      <td>15165</td>\n",
       "      <td>2021</td>\n",
       "      <td>1</td>\n",
       "    </tr>\n",
       "    <tr>\n",
       "      <th>309</th>\n",
       "      <td>04/01/2021</td>\n",
       "      <td>DKI JAKARTA</td>\n",
       "      <td>1832</td>\n",
       "      <td>21</td>\n",
       "      <td>2527</td>\n",
       "      <td>-716</td>\n",
       "      <td>190588</td>\n",
       "      <td>3327</td>\n",
       "      <td>172812</td>\n",
       "      <td>14449</td>\n",
       "      <td>2021</td>\n",
       "      <td>1</td>\n",
       "    </tr>\n",
       "    <tr>\n",
       "      <th>310</th>\n",
       "      <td>05/01/2021</td>\n",
       "      <td>DKI JAKARTA</td>\n",
       "      <td>1824</td>\n",
       "      <td>19</td>\n",
       "      <td>1339</td>\n",
       "      <td>466</td>\n",
       "      <td>192412</td>\n",
       "      <td>3346</td>\n",
       "      <td>174151</td>\n",
       "      <td>14915</td>\n",
       "      <td>2021</td>\n",
       "      <td>1</td>\n",
       "    </tr>\n",
       "    <tr>\n",
       "      <th>...</th>\n",
       "      <td>...</td>\n",
       "      <td>...</td>\n",
       "      <td>...</td>\n",
       "      <td>...</td>\n",
       "      <td>...</td>\n",
       "      <td>...</td>\n",
       "      <td>...</td>\n",
       "      <td>...</td>\n",
       "      <td>...</td>\n",
       "      <td>...</td>\n",
       "      <td>...</td>\n",
       "      <td>...</td>\n",
       "    </tr>\n",
       "    <tr>\n",
       "      <th>13400</th>\n",
       "      <td>14/04/2021</td>\n",
       "      <td>NUSA TENGGARA TIMUR</td>\n",
       "      <td>55</td>\n",
       "      <td>1</td>\n",
       "      <td>5</td>\n",
       "      <td>49</td>\n",
       "      <td>13013</td>\n",
       "      <td>351</td>\n",
       "      <td>11377</td>\n",
       "      <td>1285</td>\n",
       "      <td>2021</td>\n",
       "      <td>4</td>\n",
       "    </tr>\n",
       "    <tr>\n",
       "      <th>13401</th>\n",
       "      <td>15/04/2021</td>\n",
       "      <td>NUSA TENGGARA TIMUR</td>\n",
       "      <td>52</td>\n",
       "      <td>5</td>\n",
       "      <td>120</td>\n",
       "      <td>-73</td>\n",
       "      <td>13065</td>\n",
       "      <td>356</td>\n",
       "      <td>11497</td>\n",
       "      <td>1212</td>\n",
       "      <td>2021</td>\n",
       "      <td>4</td>\n",
       "    </tr>\n",
       "    <tr>\n",
       "      <th>13402</th>\n",
       "      <td>16/04/2021</td>\n",
       "      <td>NUSA TENGGARA TIMUR</td>\n",
       "      <td>131</td>\n",
       "      <td>0</td>\n",
       "      <td>45</td>\n",
       "      <td>86</td>\n",
       "      <td>13196</td>\n",
       "      <td>356</td>\n",
       "      <td>11542</td>\n",
       "      <td>1298</td>\n",
       "      <td>2021</td>\n",
       "      <td>4</td>\n",
       "    </tr>\n",
       "    <tr>\n",
       "      <th>13403</th>\n",
       "      <td>17/04/2021</td>\n",
       "      <td>NUSA TENGGARA TIMUR</td>\n",
       "      <td>24</td>\n",
       "      <td>2</td>\n",
       "      <td>57</td>\n",
       "      <td>-35</td>\n",
       "      <td>13220</td>\n",
       "      <td>358</td>\n",
       "      <td>11599</td>\n",
       "      <td>1263</td>\n",
       "      <td>2021</td>\n",
       "      <td>4</td>\n",
       "    </tr>\n",
       "    <tr>\n",
       "      <th>13404</th>\n",
       "      <td>18/04/2021</td>\n",
       "      <td>NUSA TENGGARA TIMUR</td>\n",
       "      <td>4</td>\n",
       "      <td>1</td>\n",
       "      <td>9</td>\n",
       "      <td>-6</td>\n",
       "      <td>13224</td>\n",
       "      <td>359</td>\n",
       "      <td>11608</td>\n",
       "      <td>1257</td>\n",
       "      <td>2021</td>\n",
       "      <td>4</td>\n",
       "    </tr>\n",
       "  </tbody>\n",
       "</table>\n",
       "<p>3671 rows × 12 columns</p>\n",
       "</div>"
      ],
      "text/plain": [
       "             Date             Province  Daily_Case  Daily_Death  \\\n",
       "306    01/01/2021          DKI JAKARTA        1956           20   \n",
       "307    02/01/2021          DKI JAKARTA        1894           26   \n",
       "308    03/01/2021          DKI JAKARTA        1658           10   \n",
       "309    04/01/2021          DKI JAKARTA        1832           21   \n",
       "310    05/01/2021          DKI JAKARTA        1824           19   \n",
       "...           ...                  ...         ...          ...   \n",
       "13400  14/04/2021  NUSA TENGGARA TIMUR          55            1   \n",
       "13401  15/04/2021  NUSA TENGGARA TIMUR          52            5   \n",
       "13402  16/04/2021  NUSA TENGGARA TIMUR         131            0   \n",
       "13403  17/04/2021  NUSA TENGGARA TIMUR          24            2   \n",
       "13404  18/04/2021  NUSA TENGGARA TIMUR           4            1   \n",
       "\n",
       "       Daily_Recovered  Active_Case  Cumulative_Case  Cumulative_Death  \\\n",
       "306               1643          293           185204              3270   \n",
       "307               2280         -412           187098              3296   \n",
       "308               1691          -43           188756              3306   \n",
       "309               2527         -716           190588              3327   \n",
       "310               1339          466           192412              3346   \n",
       "...                ...          ...              ...               ...   \n",
       "13400                5           49            13013               351   \n",
       "13401              120          -73            13065               356   \n",
       "13402               45           86            13196               356   \n",
       "13403               57          -35            13220               358   \n",
       "13404                9           -6            13224               359   \n",
       "\n",
       "       Cumulative_Recovered  Cumulative_Active_Case  Year  Month  \n",
       "306                  166314                   15620  2021      1  \n",
       "307                  168594                   15208  2021      1  \n",
       "308                  170285                   15165  2021      1  \n",
       "309                  172812                   14449  2021      1  \n",
       "310                  174151                   14915  2021      1  \n",
       "...                     ...                     ...   ...    ...  \n",
       "13400                 11377                    1285  2021      4  \n",
       "13401                 11497                    1212  2021      4  \n",
       "13402                 11542                    1298  2021      4  \n",
       "13403                 11599                    1263  2021      4  \n",
       "13404                 11608                    1257  2021      4  \n",
       "\n",
       "[3671 rows x 12 columns]"
      ]
     },
     "execution_count": 38,
     "metadata": {},
     "output_type": "execute_result"
    }
   ],
   "source": [
    "df_2021 = df[df['Year'] == 2021]\n",
    "df_2021"
   ]
  },
  {
   "cell_type": "markdown",
   "metadata": {},
   "source": [
    "## Analize it !!!"
   ]
  },
  {
   "cell_type": "code",
   "execution_count": 39,
   "metadata": {
    "scrolled": true
   },
   "outputs": [
    {
     "data": {
      "text/plain": [
       "Province\n",
       "ACEH                           358\n",
       "BALI                           520\n",
       "BANTEN                         520\n",
       "BENGKULU                       112\n",
       "DAERAH ISTIMEWA YOGYAKARTA     259\n",
       "DKI JAKARTA                   3250\n",
       "GORONTALO                      104\n",
       "JAMBI                           55\n",
       "JAWA BARAT                    1165\n",
       "JAWA TENGAH                   3368\n",
       "JAWA TIMUR                    6401\n",
       "KALIMANTAN BARAT                25\n",
       "KALIMANTAN SELATAN             584\n",
       "KALIMANTAN TENGAH              200\n",
       "KALIMANTAN TIMUR               743\n",
       "KALIMANTAN UTARA                57\n",
       "KEPULAUAN BANGKA BELITUNG       35\n",
       "KEPULAUAN RIAU                 170\n",
       "LAMPUNG                        274\n",
       "MALUKU                          71\n",
       "MALUKU UTARA                    89\n",
       "NUSA TENGGARA BARAT            260\n",
       "NUSA TENGGARA TIMUR             49\n",
       "PAPUA                          147\n",
       "PAPUA BARAT                     98\n",
       "RIAU                           581\n",
       "SULAWESI BARAT                  34\n",
       "SULAWESI SELATAN               593\n",
       "SULAWESI TENGAH                106\n",
       "SULAWESI TENGGARA              147\n",
       "SULAWESI UTARA                 310\n",
       "SUMATERA BARAT                 525\n",
       "SUMATERA SELATAN               597\n",
       "SUMATERA UTARA                 679\n",
       "Name: Daily_Death, dtype: int64"
      ]
     },
     "execution_count": 39,
     "metadata": {},
     "output_type": "execute_result"
    }
   ],
   "source": [
    "df_2020.groupby('Province')['Daily_Death'].sum()"
   ]
  },
  {
   "cell_type": "code",
   "execution_count": 40,
   "metadata": {
    "scrolled": true
   },
   "outputs": [
    {
     "data": {
      "text/plain": [
       "Province\n",
       "ACEH                            51\n",
       "BALI                           606\n",
       "BANTEN                         665\n",
       "BENGKULU                        52\n",
       "DAERAH ISTIMEWA YOGYAKARTA     641\n",
       "DKI JAKARTA                   3229\n",
       "GORONTALO                       54\n",
       "JAMBI                           43\n",
       "JAWA BARAT                    2327\n",
       "JAWA TENGAH                   4226\n",
       "JAWA TIMUR                    3916\n",
       "KALIMANTAN BARAT                10\n",
       "KALIMANTAN SELATAN             316\n",
       "KALIMANTAN TENGAH              231\n",
       "KALIMANTAN TIMUR               849\n",
       "KALIMANTAN UTARA               124\n",
       "KEPULAUAN BANGKA BELITUNG      145\n",
       "KEPULAUAN RIAU                  69\n",
       "LAMPUNG                        512\n",
       "MALUKU                          44\n",
       "MALUKU UTARA                    31\n",
       "NUSA TENGGARA BARAT            112\n",
       "NUSA TENGGARA TIMUR            310\n",
       "PAPUA                           60\n",
       "PAPUA BARAT                     43\n",
       "RIAU                           376\n",
       "SULAWESI BARAT                  83\n",
       "SULAWESI SELATAN               324\n",
       "SULAWESI TENGAH                211\n",
       "SULAWESI TENGGARA               59\n",
       "SULAWESI UTARA                 192\n",
       "SUMATERA BARAT                 219\n",
       "SUMATERA SELATAN               307\n",
       "SUMATERA UTARA                 267\n",
       "Name: Daily_Death, dtype: int64"
      ]
     },
     "execution_count": 40,
     "metadata": {},
     "output_type": "execute_result"
    }
   ],
   "source": [
    "df_2021.groupby('Province')['Daily_Death'].sum()"
   ]
  },
  {
   "cell_type": "markdown",
   "metadata": {},
   "source": [
    "## Visualize it !!!"
   ]
  },
  {
   "cell_type": "markdown",
   "metadata": {},
   "source": [
    "### 1) Total Case of Death in each Year"
   ]
  },
  {
   "cell_type": "markdown",
   "metadata": {},
   "source": [
    "### 2020"
   ]
  },
  {
   "cell_type": "code",
   "execution_count": 41,
   "metadata": {},
   "outputs": [
    {
     "data": {
      "image/png": "[encoded data removed]",
      "text/plain": [
       "<Figure size 720x576 with 1 Axes>"
      ]
     },
     "metadata": {
      "needs_background": "light"
     },
     "output_type": "display_data"
    }
   ],
   "source": [
    "provinces = [city for city, df in df_2020.groupby('Province')]\n",
    "total_death = df_2020.groupby('Province')['Daily_Death'].sum()\n",
    "\n",
    "plt.figure(figsize=(10,8))\n",
    "plt.bar(provinces, total_death, color='r')\n",
    "plt.xticks(provinces, rotation=90, size=10)\n",
    "plt.xlabel('Provinces')\n",
    "plt.ylabel('Total Case of Death')\n",
    "plt.title('Total Case of Death in 2020')\n",
    "\n",
    "plt.show()"
   ]
  },
  {
   "cell_type": "markdown",
   "metadata": {},
   "source": [
    "### 2021"
   ]
  },
  {
   "cell_type": "code",
   "execution_count": 42,
   "metadata": {},
   "outputs": [
    {
     "data": {
      "image/png": "[encoded data removed]",
      "text/plain": [
       "<Figure size 720x576 with 1 Axes>"
      ]
     },
     "metadata": {
      "needs_background": "light"
     },
     "output_type": "display_data"
    }
   ],
   "source": [
    "provinces = [city for city, df in df_2021.groupby('Province')]\n",
    "total_death = df_2021.groupby('Province')['Daily_Death'].sum()\n",
    "\n",
    "plt.figure(figsize=(10,8))\n",
    "plt.bar(provinces, total_death, color='r')\n",
    "plt.xticks(provinces, rotation=90, size=10)\n",
    "plt.xlabel('Provinces')\n",
    "plt.ylabel('Total Case of Death')\n",
    "plt.title('Total Case of Death in 2021')\n",
    "\n",
    "plt.show()"
   ]
  },
  {
   "cell_type": "markdown",
   "metadata": {},
   "source": [
    "### 2) Total Case x Total Death in each Province"
   ]
  },
  {
   "cell_type": "markdown",
   "metadata": {},
   "source": [
    "### 2020"
   ]
  },
  {
   "cell_type": "code",
   "execution_count": 43,
   "metadata": {},
   "outputs": [
    {
     "data": {
      "image/png": "[encoded data removed]",
      "text/plain": [
       "<Figure size 720x576 with 2 Axes>"
      ]
     },
     "metadata": {
      "needs_background": "light"
     },
     "output_type": "display_data"
    }
   ],
   "source": [
    "deaths = df_2020.groupby('Province')['Daily_Death'].sum()\n",
    "cases = df_2020.groupby('Province')['Daily_Case'].sum()\n",
    "provinces_2020 = [city for city, df in df_2020.groupby('Province')]\n",
    "\n",
    "fig, ax1 = plt.subplots(figsize=(10,8))\n",
    "\n",
    "ax2 = ax1.twinx()\n",
    "ax1.bar(provinces_2020, cases, color='green')\n",
    "ax2.plot(provinces_2020, deaths, 'b-')\n",
    "\n",
    "ax1.set_xlabel('Province Name', size=10)\n",
    "ax1.set_ylabel('Number of Cases', color='g', size=10)\n",
    "ax2.set_ylabel('Number of Death', color='b', size=10)\n",
    "ax1.set_xticklabels(provinces_2020, rotation=90, size=10)\n",
    "\n",
    "plt.show()"
   ]
  },
  {
   "cell_type": "markdown",
   "metadata": {},
   "source": [
    "### 2021"
   ]
  },
  {
   "cell_type": "code",
   "execution_count": 44,
   "metadata": {},
   "outputs": [
    {
     "data": {
      "image/png": "[encoded data removed]",
      "text/plain": [
       "<Figure size 720x576 with 2 Axes>"
      ]
     },
     "metadata": {
      "needs_background": "light"
     },
     "output_type": "display_data"
    }
   ],
   "source": [
    "deaths = df_2021.groupby('Province')['Daily_Death'].sum()\n",
    "cases = df_2021.groupby('Province')['Daily_Case'].sum()\n",
    "provinces_2021 = [city for city, df in df_2021.groupby('Province')]\n",
    "\n",
    "fig, ax1 = plt.subplots(figsize=(10,8))\n",
    "\n",
    "ax2 = ax1.twinx()\n",
    "ax1.bar(provinces_2021, cases, color='green')\n",
    "ax2.plot(provinces_2021, deaths, 'b-')\n",
    "\n",
    "ax1.set_xlabel('Province Name', size=10)\n",
    "ax1.set_ylabel('Number of Cases', color='g', size=10)\n",
    "ax2.set_ylabel('Number of Death', color='b', size=10)\n",
    "ax1.set_xticklabels(provinces_2021, rotation=90, size=10)\n",
    "\n",
    "plt.show()"
   ]
  },
  {
   "cell_type": "markdown",
   "metadata": {},
   "source": [
    "## Covid-19 Daily Cases Trend in 2020 for DKI Jakarta"
   ]
  },
  {
   "cell_type": "code",
   "execution_count": 121,
   "metadata": {},
   "outputs": [
    {
     "data": {
      "text/plain": [
       "[3, 4, 5, 6, 7, 8, 9, 10, 11, 12]"
      ]
     },
     "execution_count": 121,
     "metadata": {},
     "output_type": "execute_result"
    }
   ],
   "source": [
    "months_2020 = [month for month, df in df_2020[df_2020['Province'] == 'DKI JAKARTA'].groupby(df_2020['Month'])]\n",
    "months_2020"
   ]
  },
  {
   "cell_type": "code",
   "execution_count": 122,
   "metadata": {},
   "outputs": [
    {
     "data": {
      "text/plain": [
       "Month\n",
       "3       305\n",
       "4      3176\n",
       "5      3120\n",
       "6      4137\n",
       "7     10174\n",
       "8     18685\n",
       "9     33653\n",
       "10    31861\n",
       "11    31264\n",
       "12    46873\n",
       "Name: Daily_Case, dtype: int64"
      ]
     },
     "execution_count": 122,
     "metadata": {},
     "output_type": "execute_result"
    }
   ],
   "source": [
    "daily_cases_2020 = df_2020[df_2020['Province'] == 'DKI JAKARTA'].groupby(df_2020['Month'])['Daily_Case'].sum()\n",
    "daily_cases_2020"
   ]
  },
  {
   "cell_type": "code",
   "execution_count": 123,
   "metadata": {},
   "outputs": [
    {
     "data": {
      "image/png": "[encoded data removed]",
      "text/plain": [
       "<Figure size 576x432 with 1 Axes>"
      ]
     },
     "metadata": {
      "needs_background": "light"
     },
     "output_type": "display_data"
    }
   ],
   "source": [
    "plt.figure(figsize=(8,6))\n",
    "plt.plot(months_2020, daily_cases_2020, 'r')\n",
    "plt.title(\"Covid-19 Daily Cases Trend in 2020 for DKI Jakarta\", size=14)\n",
    "plt.xticks(months_2020,size=12)\n",
    "plt.yticks(size=12)\n",
    "plt.xlabel('Months',size=12)\n",
    "plt.ylabel('Number of Cases', size=12)\n",
    "plt.show()"
   ]
  },
  {
   "cell_type": "markdown",
   "metadata": {},
   "source": [
    "## Covid-19 Daily Cases Trend in 2021 for DKI Jakarta"
   ]
  },
  {
   "cell_type": "code",
   "execution_count": 124,
   "metadata": {},
   "outputs": [
    {
     "data": {
      "text/plain": [
       "[1, 2, 3, 4]"
      ]
     },
     "execution_count": 124,
     "metadata": {},
     "output_type": "execute_result"
    }
   ],
   "source": [
    "months_2021 = [month for month, df in df_2021[df_2021['Province'] == 'DKI JAKARTA'].groupby(df_2021['Month'])]\n",
    "months_2021"
   ]
  },
  {
   "cell_type": "code",
   "execution_count": 125,
   "metadata": {},
   "outputs": [
    {
     "data": {
      "text/plain": [
       "Month\n",
       "1    85982\n",
       "2    70011\n",
       "3    42326\n",
       "4    17021\n",
       "Name: Daily_Case, dtype: int64"
      ]
     },
     "execution_count": 125,
     "metadata": {},
     "output_type": "execute_result"
    }
   ],
   "source": [
    "daily_cases_2021 = df_2021[df_2021['Province'] == 'DKI JAKARTA'].groupby(df_2021['Month'])['Daily_Case'].sum()\n",
    "daily_cases_2021"
   ]
  },
  {
   "cell_type": "code",
   "execution_count": 126,
   "metadata": {},
   "outputs": [
    {
     "data": {
      "image/png": "[encoded data removed]",
      "text/plain": [
       "<Figure size 576x432 with 1 Axes>"
      ]
     },
     "metadata": {
      "needs_background": "light"
     },
     "output_type": "display_data"
    }
   ],
   "source": [
    "plt.figure(figsize=(8,6))\n",
    "plt.plot(months_2021, daily_cases_2021, 'r')\n",
    "plt.title(\"Covid-19 Daily Cases Trend in 2021 for DKI Jakarta\", size=14)\n",
    "plt.xticks(months_2021,size=12)\n",
    "plt.yticks(size=12)\n",
    "plt.xlabel('Months',size=12)\n",
    "plt.ylabel('Number of Cases', size=12)\n",
    "plt.show()"
   ]
  },
  {
   "cell_type": "code",
   "execution_count": null,
   "metadata": {},
   "outputs": [],
   "source": []
  },
  {
   "cell_type": "code",
   "execution_count": null,
   "metadata": {},
   "outputs": [],
   "source": []
  }
 ],
 "metadata": {
  "kernelspec": {
   "display_name": "Python 3",
   "language": "python",
   "name": "python3"
  },
  "language_info": {
   "codemirror_mode": {
    "name": "ipython",
    "version": 3
   },
   "file_extension": ".py",
   "mimetype": "text/x-python",
   "name": "python",
   "nbconvert_exporter": "python",
   "pygments_lexer": "ipython3",
   "version": "3.8.3"
  }
 },
 "nbformat": 4,
 "nbformat_minor": 4
}
